{
  "nbformat": 4,
  "nbformat_minor": 0,
  "metadata": {
    "colab": {
      "provenance": [],
      "authorship_tag": "ABX9TyPPZVKTkozneuLZOKlxAREY",
      "include_colab_link": true
    },
    "kernelspec": {
      "name": "python3",
      "display_name": "Python 3"
    },
    "language_info": {
      "name": "python"
    }
  },
  "cells": [
    {
      "cell_type": "markdown",
      "metadata": {
        "id": "view-in-github",
        "colab_type": "text"
      },
      "source": [
        "<a href=\"https://colab.research.google.com/github/wesleyvsw/Lab_elepot/blob/main/dissipador_novo.ipynb\" target=\"_parent\"><img src=\"https://colab.research.google.com/assets/colab-badge.svg\" alt=\"Open In Colab\"/></a>"
      ]
    },
    {
      "cell_type": "code",
      "execution_count": 161,
      "metadata": {
        "id": "MoXC3xdi1lZv"
      },
      "outputs": [],
      "source": [
        "#Dados gerais\n",
        "P = 109.74 #1Kw- perdas de chaveamento e condução\n",
        "d1_igbt = 16.85e-3\n",
        "d2_igbt = 15.90e-3\n",
        "r_jc = 0.385 #K/W #dado do datasheet\n",
        "cond_pasta = 3.8 #(W/(m . K)) ----> condutividade pasta termica (3 no problema)\n",
        "espessura_pasta = 0.0381e-3*2# original tirar o 2\n",
        "area_igbt = d1_igbt*d2_igbt\n",
        "r_cs = espessura_pasta/(cond_pasta*area_igbt*6) #\n",
        "ta =35\n",
        "ta_max= 40\n"
      ]
    },
    {
      "cell_type": "code",
      "source": [
        "r_cs"
      ],
      "metadata": {
        "colab": {
          "base_uri": "https://localhost:8080/"
        },
        "id": "OaIU1XxYzpNR",
        "outputId": "1bfbbcb1-2d03-423c-ce4a-4b8cfbdeee49"
      },
      "execution_count": 162,
      "outputs": [
        {
          "output_type": "execute_result",
          "data": {
            "text/plain": [
              "0.01247449849078213"
            ]
          },
          "metadata": {},
          "execution_count": 162
        }
      ]
    },
    {
      "cell_type": "code",
      "source": [
        "print(r_cs)\n",
        "print(area_igbt)"
      ],
      "metadata": {
        "colab": {
          "base_uri": "https://localhost:8080/"
        },
        "id": "VfuRfN0Y1rjY",
        "outputId": "b34d2d92-07f5-4f83-89c4-423ad70a367b"
      },
      "execution_count": 144,
      "outputs": [
        {
          "output_type": "stream",
          "name": "stdout",
          "text": [
            "0.07900515710828682\n",
            "0.000267915\n"
          ]
        }
      ]
    },
    {
      "cell_type": "code",
      "source": [
        "tj_max = 125\n",
        "ta_max = 35"
      ],
      "metadata": {
        "id": "6NpByytC2AXy"
      },
      "execution_count": 154,
      "outputs": []
    },
    {
      "cell_type": "code",
      "source": [
        "#r_cs = 0"
      ],
      "metadata": {
        "id": "naKiDox84Nwx"
      },
      "execution_count": 31,
      "outputs": []
    },
    {
      "cell_type": "code",
      "source": [
        "r_sa = (1/6)*((tj_max-ta_max)/P - (6*r_cs +r_jc))\n",
        "r_sa"
      ],
      "metadata": {
        "colab": {
          "base_uri": "https://localhost:8080/"
        },
        "id": "t_D6eLYO2mAQ",
        "outputId": "426933a1-9c8c-441b-e4ee-2bad4178f5f6"
      },
      "execution_count": 163,
      "outputs": [
        {
          "output_type": "execute_result",
          "data": {
            "text/plain": [
              "0.05245184255775684"
            ]
          },
          "metadata": {},
          "execution_count": 163
        }
      ]
    },
    {
      "cell_type": "markdown",
      "source": [
        "[isolador](https://www.digikey.at/en/products/detail/bergquist/SP2000-0-015-00-104/252713?srsltid=AfmBOorUlIJfDbM8K2flQIARWcWD09PNDw-ewoi0xnC9ZkzKO3MKZ5uZ)"
      ],
      "metadata": {
        "id": "RGO3pR_SB4Gs"
      }
    },
    {
      "cell_type": "markdown",
      "source": [
        "# Buck"
      ],
      "metadata": {
        "id": "Edj6QclxC0Gj"
      }
    },
    {
      "cell_type": "code",
      "source": [
        "P_buck = 151.42\n",
        "r_cs_buck = espessura_pasta_buck/(cond_pasta*area_igbt)\n",
        "r_sa_buck = (tj_max-ta_max)/P_buck - (r_jc + r_cs_buck)\n",
        "r_sa_buck"
      ],
      "metadata": {
        "colab": {
          "base_uri": "https://localhost:8080/"
        },
        "id": "GISR-xqLCAys",
        "outputId": "34538cf1-98b0-4344-c89e-f5bad9d66118"
      },
      "execution_count": 145,
      "outputs": [
        {
          "output_type": "execute_result",
          "data": {
            "text/plain": [
              "-0.1325747281470131"
            ]
          },
          "metadata": {},
          "execution_count": 145
        }
      ]
    },
    {
      "cell_type": "code",
      "source": [
        "d1_igbt = 16.85e-3\n",
        "d2_igbt = 15.90e-3\n",
        "r_jc = 0.385 #K/W #dado do datasheet\n",
        "cond_pasta = 3.8 #(W/(m . K)) ----> condutividade pasta termica\n",
        "espessura_pasta_buck = 0.076e-3\n",
        "area_igbt = d1_igbt*d2_igbt\n",
        "P_buck = 151.42\n",
        "r_cs_buck = espessura_pasta_buck/(cond_pasta*area_igbt)\n",
        "r_sa_buck = (tj_max-ta_max)/P_buck - (r_jc + r_cs_buck)\n",
        "r_sa_buck\n"
      ],
      "metadata": {
        "colab": {
          "base_uri": "https://localhost:8080/"
        },
        "id": "3FBIP1kNUxsX",
        "outputId": "cd3373bd-712d-4a97-ad83-92e9778a2821"
      },
      "execution_count": 155,
      "outputs": [
        {
          "output_type": "execute_result",
          "data": {
            "text/plain": [
              "0.13472272426174403"
            ]
          },
          "metadata": {},
          "execution_count": 155
        }
      ]
    },
    {
      "cell_type": "code",
      "source": [
        "r_cs_buck"
      ],
      "metadata": {
        "colab": {
          "base_uri": "https://localhost:8080/"
        },
        "id": "LFROQJyP8KJk",
        "outputId": "e4620692-b722-4752-c039-58c4ce82ac37"
      },
      "execution_count": 156,
      "outputs": [
        {
          "output_type": "execute_result",
          "data": {
            "text/plain": [
              "0.07465054214956236"
            ]
          },
          "metadata": {},
          "execution_count": 156
        }
      ]
    }
  ]
}