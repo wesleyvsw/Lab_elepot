{
  "nbformat": 4,
  "nbformat_minor": 0,
  "metadata": {
    "colab": {
      "provenance": [],
      "authorship_tag": "ABX9TyPBSvsA2KvUPqkQdiqM0PhS"
    },
    "kernelspec": {
      "name": "python3",
      "display_name": "Python 3"
    },
    "language_info": {
      "name": "python"
    }
  },
  "cells": [
    {
      "cell_type": "code",
      "execution_count": null,
      "metadata": {
        "id": "4KI8UuS1NXlN"
      },
      "outputs": [],
      "source": [
        "#Dados gerais\n",
        "P = 109.74 #1Kw- perdas de chaveamento e condução\n",
        "d1_igbt = 16.85e-3\n",
        "d2_igbt = 1.35e-3\n",
        "r_jc = 0.385 #K/W #dado do datasheet\n",
        "cond_pasta = 6 #(W/(m . K)) ----> condutividade pasta termica\n",
        "espessura_pasta = 50e-6\n",
        "area_igbt = d1_igbt*d2_igbt\n",
        "r_cs = espessura_pasta/(cond_pasta*area_igbt) #\n",
        "ta =35\n",
        "ta_max= 40\n"
      ]
    },
    {
      "cell_type": "code",
      "source": [
        "area_igbt"
      ],
      "metadata": {
        "colab": {
          "base_uri": "https://localhost:8080/"
        },
        "id": "4jipmgjPlVXh",
        "outputId": "90ce502d-c7c7-4662-82fa-222f56e191d4"
      },
      "execution_count": null,
      "outputs": [
        {
          "output_type": "execute_result",
          "data": {
            "text/plain": [
              "2.2747500000000002e-05"
            ]
          },
          "metadata": {},
          "execution_count": 2
        }
      ]
    },
    {
      "cell_type": "markdown",
      "source": [
        "[Dados da pasta termica](https://br.mouser.com/datasheet/3/253/1/BERGQUIST-LIQUI-BOND-TLB-SA3500-en_GL.pdf)"
      ],
      "metadata": {
        "id": "ogh2pkJWpPnt"
      }
    },
    {
      "cell_type": "code",
      "source": [
        "#Calculo de r_sa é um paralelo de duas coisas\n",
        "tj = 125\n",
        "tj_max = 175\n",
        "ts = tj-P*(r_jc + r_cs)\n",
        "ts"
      ],
      "metadata": {
        "colab": {
          "base_uri": "https://localhost:8080/"
        },
        "id": "WgJZoxwDNiHn",
        "outputId": "1a6c00c3-2651-4181-f88e-632aeb7ce5c7"
      },
      "execution_count": null,
      "outputs": [
        {
          "output_type": "execute_result",
          "data": {
            "text/plain": [
              "13.83200852997976"
            ]
          },
          "metadata": {},
          "execution_count": 8
        }
      ]
    },
    {
      "cell_type": "code",
      "source": [
        "r_ja_max = (175-ta_max)/P\n",
        "r_ja_max"
      ],
      "metadata": {
        "colab": {
          "base_uri": "https://localhost:8080/"
        },
        "id": "KS4QJbUlB9GS",
        "outputId": "52709ab6-5664-4337-f4c5-fc8cc9062d58"
      },
      "execution_count": null,
      "outputs": [
        {
          "output_type": "execute_result",
          "data": {
            "text/plain": [
              "1.230180426462548"
            ]
          },
          "metadata": {},
          "execution_count": 35
        }
      ]
    },
    {
      "cell_type": "code",
      "source": [
        "r_sa = (tj_max-ta_max)/P - (r_jc + r_cs)\n",
        "r_sa"
      ],
      "metadata": {
        "colab": {
          "base_uri": "https://localhost:8080/"
        },
        "id": "sXzaiOr38Ebu",
        "outputId": "2641d362-583a-47dc-8b23-24e32dd9683d"
      },
      "execution_count": null,
      "outputs": [
        {
          "output_type": "execute_result",
          "data": {
            "text/plain": [
              "0.21716792901384885"
            ]
          },
          "metadata": {},
          "execution_count": 39
        }
      ]
    },
    {
      "cell_type": "markdown",
      "source": [
        "[Dissipador](https://www.mouser.com/catalog/specsheets/ATS_NVA_3275_C4_R0.pdf?_gl=1*1r4eua7*_gcl_au*MjAyODY5MjA1OC4xNzYwMjE3NDgwLjEwMzQ1ODYzMTIuMTc2MDIzMzIwMi4xNzYwMjMzNDE2*_ga*NzAxOTc2NDQ4LjE3NjAyMTc0ODE.*_ga_15W4STQT4T*czE3NjAyMzMyMDEkbzMkZzEkdDE3NjAyMzM0MTkkajI3JGwwJGgw)"
      ],
      "metadata": {
        "id": "QGdyeOXcGL02"
      }
    },
    {
      "cell_type": "code",
      "source": [
        "r_cs"
      ],
      "metadata": {
        "colab": {
          "base_uri": "https://localhost:8080/"
        },
        "id": "mXA9a4NVuDQS",
        "outputId": "74360122-e321-4d88-a0cc-0ede04f7e4d6"
      },
      "execution_count": null,
      "outputs": [
        {
          "output_type": "execute_result",
          "data": {
            "text/plain": [
              "0.3663406235117412"
            ]
          },
          "metadata": {},
          "execution_count": 13
        }
      ]
    },
    {
      "cell_type": "markdown",
      "source": [
        "# **BUCK**"
      ],
      "metadata": {
        "id": "MQCyVai1uZmk"
      }
    },
    {
      "cell_type": "code",
      "source": [
        "P_buck = 151.42\n"
      ],
      "metadata": {
        "id": "WpNI3YMeue5E"
      },
      "execution_count": null,
      "outputs": []
    },
    {
      "cell_type": "code",
      "source": [
        "r_ja_max_buck = (175-ta_max)/P_buck\n",
        "r_ja_max_buck"
      ],
      "metadata": {
        "colab": {
          "base_uri": "https://localhost:8080/"
        },
        "outputId": "77893741-f833-48dd-ae9e-977ee8e27f6a",
        "id": "a8L3-5H8vUre"
      },
      "execution_count": null,
      "outputs": [
        {
          "output_type": "execute_result",
          "data": {
            "text/plain": [
              "0.8915598996169595"
            ]
          },
          "metadata": {},
          "execution_count": 6
        }
      ]
    },
    {
      "cell_type": "code",
      "source": [],
      "metadata": {
        "id": "KE9hPQUWwzkd"
      },
      "execution_count": null,
      "outputs": []
    },
    {
      "cell_type": "code",
      "source": [
        "r_sa_buck = (tj_max-ta_max)/P_buck - (r_jc + r_cs)\n",
        "r_sa_buck"
      ],
      "metadata": {
        "colab": {
          "base_uri": "https://localhost:8080/"
        },
        "outputId": "12968282-7b45-4c8c-bad6-39bf8932daa3",
        "id": "N_Og9y6Fw1a3"
      },
      "execution_count": null,
      "outputs": [
        {
          "output_type": "execute_result",
          "data": {
            "text/plain": [
              "0.14021927610521823"
            ]
          },
          "metadata": {},
          "execution_count": 12
        }
      ]
    }
  ]
}