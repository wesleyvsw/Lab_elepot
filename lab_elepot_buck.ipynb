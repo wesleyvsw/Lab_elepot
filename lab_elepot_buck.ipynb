{
  "nbformat": 4,
  "nbformat_minor": 0,
  "metadata": {
    "colab": {
      "provenance": []
    },
    "kernelspec": {
      "name": "python3",
      "display_name": "Python 3"
    },
    "language_info": {
      "name": "python"
    }
  },
  "cells": [
    {
      "cell_type": "code",
      "execution_count": null,
      "metadata": {
        "id": "fL2Iv7Scmrbi"
      },
      "outputs": [],
      "source": [
        "#Perdas = p_cond +p_chave"
      ]
    },
    {
      "cell_type": "code",
      "source": [
        "#Chave\n",
        "#p_igbt = p_cond + p_chave = u_ceo*ic_avg +rc*ic_rms^2 +(eont +eoff)*fsw\n",
        "D = 0.5 #Duty_cycle\n",
        "io = 50 #Valor médio de corente de saída\n",
        "uo = 400\n",
        "L= 40e-3 #Indutância\n",
        "fsw = 10000\n",
        "delta_io = 1 #ripple de corrente na carga\n",
        "delta_io = ((1-D)*uo)/(L*fsw)\n",
        "ic_avg = D*io\n",
        "ic_rms = D*io*io\n",
        "uceo =1.2 #observar o grafico\n",
        "udo = 1 #observar o grafico\n"
      ],
      "metadata": {
        "id": "tjcry3WHnEvL"
      },
      "execution_count": null,
      "outputs": []
    },
    {
      "cell_type": "markdown",
      "source": [
        "Método para encontrar uceo e udo\n",
        "\n",
        "\n",
        "1.   Escolher uma curva de tensão e criar um reta. O ponto onde ic = 0 é uceo\n",
        "2.   rc é o valor de deltau/deltaic\n",
        "3. Fazer a mesma coisa para rd e udo\n",
        "\n"
      ],
      "metadata": {
        "id": "fnc7LdPeM-fh"
      }
    },
    {
      "cell_type": "markdown",
      "source": [
        "# Perdas de condução\n",
        "igbt_cond = uceo*ic_avg +rc*ic_rms*ic_rms\n",
        "\n",
        "idiodo_cond = udo*id_avg  + rd*id_rms*id_rms"
      ],
      "metadata": {
        "id": "yrogw5HFOnW5"
      }
    },
    {
      "cell_type": "code",
      "source": [
        "udo = 0.9\n",
        "uceo = 1.2\n",
        "rc = 4.27e-3\n",
        "rd = 6e-3"
      ],
      "metadata": {
        "id": "m8uqQRnWQHmo"
      },
      "execution_count": null,
      "outputs": []
    },
    {
      "cell_type": "code",
      "source": [
        "#Diodo\n",
        "id_avg = (1-D)*io\n",
        "id_rms = (1-D)*io*io\n"
      ],
      "metadata": {
        "id": "a8Cj6WASq9Oz"
      },
      "execution_count": null,
      "outputs": []
    },
    {
      "cell_type": "code",
      "source": [
        "#Perdas IGBT conducao\n",
        "igbt_cond = uceo*ic_avg +rc*ic_rms\n",
        "#Perdas diodo conducao\n",
        "idiodo_cond = udo*id_avg +rd*id_rms"
      ],
      "metadata": {
        "id": "M4P0mUuCU2Ip"
      },
      "execution_count": null,
      "outputs": []
    },
    {
      "cell_type": "code",
      "source": [
        "igbt_cond"
      ],
      "metadata": {
        "colab": {
          "base_uri": "https://localhost:8080/"
        },
        "id": "qNJPxwH0CWzg",
        "outputId": "369198b9-2b5c-4431-acb5-f32bd4d81b11"
      },
      "execution_count": null,
      "outputs": [
        {
          "output_type": "execute_result",
          "data": {
            "text/plain": [
              "35.3375"
            ]
          },
          "metadata": {},
          "execution_count": 12
        }
      ]
    },
    {
      "cell_type": "code",
      "source": [
        "idiodo_cond"
      ],
      "metadata": {
        "colab": {
          "base_uri": "https://localhost:8080/"
        },
        "id": "k7D-uHzhCXJO",
        "outputId": "45f8a4af-299c-4563-af8b-c78eafb9702f"
      },
      "execution_count": null,
      "outputs": [
        {
          "output_type": "execute_result",
          "data": {
            "text/plain": [
              "30.0"
            ]
          },
          "metadata": {},
          "execution_count": 13
        }
      ]
    },
    {
      "cell_type": "markdown",
      "source": [
        "# Perdas chaveamento"
      ],
      "metadata": {
        "id": "Y-I6vxKkThlt"
      }
    },
    {
      "cell_type": "code",
      "source": [
        "#Diodo\n",
        "Qrr = 14.9e-6 #Diode reverse recovery charge(Valor do datasheet)\n",
        "udd = 400 #tensao de alimentaçao(pior caso)\n",
        "Eon_d = 0.25*Qrr*udd\n",
        "p_chave_diodo = Eon_d*fsw\n",
        "\n",
        "#IGBT\n",
        "Eon = 12.6e-3\n",
        "Eoff = 9.5e-3\n",
        "p_chave_igbt = Eon*fsw + Eoff*fsw"
      ],
      "metadata": {
        "id": "i4Yz0ME3QMCW"
      },
      "execution_count": null,
      "outputs": []
    },
    {
      "cell_type": "code",
      "source": [
        "p_chave_diodo"
      ],
      "metadata": {
        "colab": {
          "base_uri": "https://localhost:8080/"
        },
        "id": "xCXlskalCOyy",
        "outputId": "f2c9717b-1692-4851-fbd1-2e110fb66c65"
      },
      "execution_count": null,
      "outputs": [
        {
          "output_type": "execute_result",
          "data": {
            "text/plain": [
              "14.9"
            ]
          },
          "metadata": {},
          "execution_count": 10
        }
      ]
    },
    {
      "cell_type": "code",
      "source": [
        "p_chave_igbt"
      ],
      "metadata": {
        "colab": {
          "base_uri": "https://localhost:8080/"
        },
        "id": "SeupRTh_CRiP",
        "outputId": "dca9ab20-72db-4861-91f6-26b3e06c331d"
      },
      "execution_count": null,
      "outputs": [
        {
          "output_type": "execute_result",
          "data": {
            "text/plain": [
              "221.0"
            ]
          },
          "metadata": {},
          "execution_count": 11
        }
      ]
    }
  ]
}